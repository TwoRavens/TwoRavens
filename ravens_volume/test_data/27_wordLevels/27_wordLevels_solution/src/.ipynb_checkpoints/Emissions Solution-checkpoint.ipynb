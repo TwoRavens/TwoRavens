{
 "cells": [
  {
   "cell_type": "code",
   "execution_count": 247,
   "metadata": {
    "collapsed": false
   },
   "outputs": [],
   "source": [
    "import os, glob\n",
    "import pandas as pd \n",
    "from sklearn.feature_extraction import DictVectorizer"
   ]
  },
  {
   "cell_type": "code",
   "execution_count": 248,
   "metadata": {
    "collapsed": true
   },
   "outputs": [],
   "source": [
    "## one-hot-encoding of categorical features\n",
    "def encode_onehot(df, cols):\n",
    "    \"\"\"\n",
    "    One-hot encoding is applied to columns specified in a pandas DataFrame.\n",
    "    \"\"\"\n",
    "    vec = DictVectorizer()\n",
    "    \n",
    "    vec_data = pd.DataFrame(vec.fit_transform(df[cols].to_dict(orient='records')).toarray())\n",
    "    vec_data.columns = vec.get_feature_names()\n",
    "    vec_data.index = df.index\n",
    "    \n",
    "    df = df.drop(cols, axis=1)\n",
    "    df = df.join(vec_data)\n",
    "    return df"
   ]
  },
  {
   "cell_type": "code",
   "execution_count": 249,
   "metadata": {
    "collapsed": true
   },
   "outputs": [],
   "source": [
    "#projectdir = os.path.realpath(__file__).split('src')[0]\n",
    "projectDir = \"/home/ca22119/projects_vm/d3m/sep17eval/emissions/28_car_fuel_emission\"\n",
    "solDir = os.path.join(projectDir, \"solution\")\n",
    "dataDir = os.path.join(projectDir, \"data\")\n",
    "rawDir = os.path.join(dataDir, \"raw_data\")"
   ]
  },
  {
   "cell_type": "code",
   "execution_count": 250,
   "metadata": {
    "collapsed": false
   },
   "outputs": [],
   "source": [
    "# Load-in all the raw data\n",
    "trainData = pd.read_csv(os.path.join(dataDir, \"trainData.csv.gz\"), sep=',', compression='gzip', index_col=0)\n",
    "testData = pd.read_csv(os.path.join(dataDir, \"testData.csv.gz\"), sep=',', compression='gzip', index_col=0)"
   ]
  },
  {
   "cell_type": "code",
   "execution_count": 251,
   "metadata": {
    "collapsed": false
   },
   "outputs": [],
   "source": [
    "# Load-in all the target labels\n",
    "trainTargets = pd.read_csv(os.path.join(dataDir, \"trainTargets.csv.gz\"), sep=',', compression='gzip', index_col=0)\n",
    "testTargets = pd.read_csv(os.path.join(dataDir, \"testTargets.csv.gz\"), sep=',', compression='gzip', index_col=0)"
   ]
  },
  {
   "cell_type": "code",
   "execution_count": 252,
   "metadata": {
    "collapsed": false
   },
   "outputs": [],
   "source": [
    "# Massage raw-data into dict of dataframes (indexed by raw filename)\n",
    "r_f_names = trainData['filename'].unique() # raw data files\n",
    "r_dfs = {}\n",
    "r_df_columns = None\n",
    "for r_f_name in r_f_names:\n",
    "    r_df = pd.read_csv(os.path.join(rawDir, r_f_name), index_col=0)\n",
    "    r_dfs[r_f_name] = r_df\n",
    "    r_df_columns = r_df.columns"
   ]
  },
  {
   "cell_type": "code",
   "execution_count": 275,
   "metadata": {
    "collapsed": false,
    "scrolled": true
   },
   "outputs": [],
   "source": [
    "# Pull-out the training data\n",
    "X_train = pd.DataFrame(index=trainData.index, columns=r_df_columns)\n",
    "\n",
    "for row in trainData.iterrows():\n",
    "    r_index = row[0]\n",
    "    r_file = row[1].values[0]\n",
    "    X_train.loc[r_index] = r_dfs[r_file].iloc[r_index]\n"
   ]
  },
  {
   "cell_type": "code",
   "execution_count": 276,
   "metadata": {
    "collapsed": true
   },
   "outputs": [],
   "source": [
    "# Pull-out the testing data\n",
    "X_test = pd.DataFrame(index=testData.index, columns=r_df_columns)\n",
    "for row in testData.iterrows():\n",
    "    r_index = row[0]\n",
    "    r_file = row[1].values[0]\n",
    "    X_test.loc[r_index] = r_dfs[r_file].iloc[r_index]"
   ]
  },
  {
   "cell_type": "code",
   "execution_count": 277,
   "metadata": {
    "collapsed": false
   },
   "outputs": [],
   "source": [
    "# Drop 'is_tdi' column b/c of leakage\n",
    "X_train.drop(['is_tdi','engine_capacity','emissions_co_mgkm','emissions_nox_mgkm','metric_urban_cold'],axis=1, inplace=True)\n",
    "X_test.drop(['is_tdi','engine_capacity','emissions_co_mgkm','emissions_nox_mgkm','metric_urban_cold'],axis=1, inplace=True)\n",
    "#X_train.drop(['emissions_co_mgkm'],axis=1, inplace=True)\n",
    "#X_test.drop(['emissions_co_mgkm'],axis=1, inplace=True)\n"
   ]
  },
  {
   "cell_type": "code",
   "execution_count": 278,
   "metadata": {
    "collapsed": false
   },
   "outputs": [],
   "source": [
    "# Re-assign targets for scikit-learn\n",
    "y_train = trainTargets\n",
    "y_test = testTargets"
   ]
  },
  {
   "cell_type": "code",
   "execution_count": 279,
   "metadata": {
    "collapsed": false
   },
   "outputs": [],
   "source": [
    "# One-Hot Encode Categorical Variables\n",
    "\n",
    "# simple categorical column detection\n",
    "cat_cols = []\n",
    "for index,val in X_train.tail(1).iteritems():\n",
    "    if isinstance(val.values[0],str): # simple categorical feature detection\n",
    "        cat_cols.append(index)\n",
    "\n",
    "# one-hot encode\n",
    "X_train = encode_onehot(X_train, cat_cols)\n",
    "X_test = encode_onehot(X_test, cat_cols)"
   ]
  },
  {
   "cell_type": "code",
   "execution_count": 280,
   "metadata": {
    "collapsed": false
   },
   "outputs": [
    {
     "name": "stdout",
     "output_type": "stream",
     "text": [
      "[ 0.32926885  0.28212203  0.01723728  0.02018036  0.01351804  0.08596409\n",
      "  0.07492854  0.17678082]\n",
      "[('metric_combined', 0.32926884759109859), ('metric_extra_urban', 0.28212202857870405), ('fuel_type=diesel', 0.017237284588741443), ('fuel_type=hybrid', 0.020180355482376466), ('fuel_type=petrol', 0.013518037057274718), ('trans=auto', 0.085964088003394876), ('trans=manual', 0.074928538331723568), ('trans=semiauto', 0.17678082036668624)]\n",
      "RF score: 0.852459\n"
     ]
    }
   ],
   "source": [
    "from sklearn import ensemble\n",
    "rf = ensemble.RandomForestClassifier(n_estimators=100)\n",
    "rf.fit(X_train,y_train['parent_is_vw'])\n",
    "print rf.feature_importances_\n",
    "print list(zip(X_train, rf.feature_importances_))\n",
    "print('RF score: %f' % rf.fit(X_train, y_train['parent_is_vw']).score(X_test, y_test['parent_is_vw']))"
   ]
  },
  {
   "cell_type": "code",
   "execution_count": 281,
   "metadata": {
    "collapsed": false
   },
   "outputs": [
    {
     "data": {
      "text/plain": [
       "0.88252590673575126"
      ]
     },
     "execution_count": 281,
     "metadata": {},
     "output_type": "execute_result"
    }
   ],
   "source": [
    "from sklearn import metrics\n",
    "pred = rf.predict_proba(X_test)\n",
    "fpr, tpr, thresholds = metrics.roc_curve(y_test['parent_is_vw'], pred[:,1], pos_label=1)\n",
    "metrics.auc(fpr, tpr)"
   ]
  },
  {
   "cell_type": "code",
   "execution_count": null,
   "metadata": {
    "collapsed": true
   },
   "outputs": [],
   "source": []
  }
 ],
 "metadata": {
  "anaconda-cloud": {},
  "kernelspec": {
   "display_name": "Python [conda env:d3m]",
   "language": "python",
   "name": "conda-env-d3m-py"
  },
  "language_info": {
   "codemirror_mode": {
    "name": "ipython",
    "version": 2
   },
   "file_extension": ".py",
   "mimetype": "text/x-python",
   "name": "python",
   "nbconvert_exporter": "python",
   "pygments_lexer": "ipython2",
   "version": "2.7.13"
  }
 },
 "nbformat": 4,
 "nbformat_minor": 1
}
