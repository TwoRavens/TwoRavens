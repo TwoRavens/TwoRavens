{
 "cells": [
  {
   "cell_type": "code",
   "execution_count": 1,
   "metadata": {
    "collapsed": true
   },
   "outputs": [],
   "source": [
    "import os, json, itertools, sys\n",
    "import pandas as pd\n",
    "from d3mTS import D3MTS\n",
    "import pyflux as pf\n",
    "from sklearn.metrics import mean_squared_error\n",
    "from math import sqrt\n",
    "import numpy as np\n",
    "from collections import OrderedDict"
   ]
  },
  {
   "cell_type": "markdown",
   "metadata": {},
   "source": [
    "## Make pipeline"
   ]
  },
  {
   "cell_type": "code",
   "execution_count": 2,
   "metadata": {},
   "outputs": [
    {
     "name": "stdout",
     "output_type": "stream",
     "text": [
      "begin pipeline ...\n"
     ]
    }
   ],
   "source": [
    "print('begin pipeline ...')"
   ]
  },
  {
   "cell_type": "code",
   "execution_count": 3,
   "metadata": {
    "collapsed": true
   },
   "outputs": [],
   "source": [
    "dataset_dir = os.path.abspath('../..')\n",
    "d3m = D3MTS(dataset_dir)\n",
    "# print(d3m.data_schema.dataset_id)"
   ]
  },
  {
   "cell_type": "code",
   "execution_count": 4,
   "metadata": {
    "code_folding": [
     0
    ],
    "collapsed": true
   },
   "outputs": [],
   "source": [
    "# class for loading/saving .timeseries format\n",
    "class TimeSeries(object):\n",
    "    def __init__(self, df):\n",
    "        self.df = df.copy()\n",
    "        self.df.index.name = 'time'\n",
    "        self.df.columns = df.columns\n",
    "    \n",
    "    def save(self, file):\n",
    "        try:\n",
    "            self._save(file)\n",
    "        except AttributeError:\n",
    "            with open(file, 'w', encoding='utf-8') as f:\n",
    "                self._save(f)\n",
    "    \n",
    "    def _save(self, f):\n",
    "        self.df.to_csv(f)\n",
    "    \n",
    "    @classmethod\n",
    "    def load(cls, file):\n",
    "        try:\n",
    "            return cls._load(file)\n",
    "        except AttributeError:\n",
    "            with open(file, 'r', encoding='utf-8') as f:\n",
    "                res = cls._load(f)\n",
    "            return res\n",
    "    \n",
    "    @classmethod\n",
    "    def _load(cls, f):\n",
    "        df = pd.read_csv(f, index_col='time')\n",
    "        return cls(df)"
   ]
  },
  {
   "cell_type": "code",
   "execution_count": 5,
   "metadata": {
    "code_folding": [],
    "collapsed": true
   },
   "outputs": [],
   "source": [
    "def get_train_validation_split(test_split=0.1):\n",
    "    \"\"\"\n",
    "    split the given dataset into train/validation sets\n",
    "    \"\"\"\n",
    "    print('train/validation split ...')\n",
    "    train_validdation_split = {}\n",
    "    for (tsName, tsFile) in zip(d3m.train_data['timeSeriesName'], \n",
    "                                d3m.train_data['timeSeriesDataFile']):\n",
    "        ## load training data from raw_data dir\n",
    "        data = TimeSeries.load(d3m.open_raw_data(tsFile)).df.reset_index()\n",
    "        splitpoint = len(data)-int(test_split*len(data))\n",
    "        trainData = data[:splitpoint]\n",
    "        validationData = data[splitpoint:]\n",
    "        train_validdation_split[(tsName, 'train')] = trainData\n",
    "        train_validdation_split[(tsName, 'validation')] = validationData\n",
    "    return train_validdation_split"
   ]
  },
  {
   "cell_type": "markdown",
   "metadata": {},
   "source": [
    "### Search model space using train/validation data"
   ]
  },
  {
   "cell_type": "markdown",
   "metadata": {},
   "source": [
    "Model space consists of three types of models:\n",
    "- ARIMA\n",
    "- Dynamic Autoregression (DAR) Model\n",
    "- GARCH model (Beta Skew-t)"
   ]
  },
  {
   "cell_type": "code",
   "execution_count": 6,
   "metadata": {},
   "outputs": [
    {
     "name": "stdout",
     "output_type": "stream",
     "text": [
      "loading train data ...\n",
      "exploring model space on train data (2-Fold CV) ...\n",
      "fold: 0\n",
      "train/validation split ...\n",
      "arima model 2 4 sunspot.month\n",
      "arima model 2 4 sunspot.year\n",
      "arima model 2 5 sunspot.month\n",
      "arima model 2 5 sunspot.year\n",
      "arima model 2 6 sunspot.month\n",
      "arima model 2 6 sunspot.year\n",
      "arima model 2 7 sunspot.month\n",
      "arima model 2 7 sunspot.year\n",
      "arima model 3 4 sunspot.month\n",
      "arima model 3 4 sunspot.year\n",
      "arima model 3 5 sunspot.month\n",
      "arima model 3 5 sunspot.year\n",
      "arima model 3 6 sunspot.month\n",
      "arima model 3 6 sunspot.year\n",
      "arima model 3 7 sunspot.month\n",
      "arima model 3 7 sunspot.year\n",
      "arima model 4 4 sunspot.month\n",
      "arima model 4 4 sunspot.year\n",
      "arima model 4 5 sunspot.month\n",
      "arima model 4 5 sunspot.year\n",
      "arima model 4 6 sunspot.month\n",
      "arima model 4 6 sunspot.year\n",
      "arima model 4 7 sunspot.month\n",
      "arima model 4 7 sunspot.year\n",
      "fold: 1\n",
      "train/validation split ...\n",
      "arima model 2 4 sunspot.month\n",
      "arima model 2 4 sunspot.year\n",
      "arima model 2 5 sunspot.month\n",
      "arima model 2 5 sunspot.year\n",
      "arima model 2 6 sunspot.month\n",
      "arima model 2 6 sunspot.year\n",
      "arima model 2 7 sunspot.month\n",
      "arima model 2 7 sunspot.year\n",
      "arima model 3 4 sunspot.month\n",
      "arima model 3 4 sunspot.year\n",
      "arima model 3 5 sunspot.month\n",
      "arima model 3 5 sunspot.year\n",
      "arima model 3 6 sunspot.month\n",
      "arima model 3 6 sunspot.year\n",
      "arima model 3 7 sunspot.month\n",
      "arima model 3 7 sunspot.year\n",
      "arima model 4 4 sunspot.month\n",
      "arima model 4 4 sunspot.year\n",
      "arima model 4 5 sunspot.month\n",
      "arima model 4 5 sunspot.year\n",
      "arima model 4 6 sunspot.month\n",
      "arima model 4 6 sunspot.year\n",
      "arima model 4 7 sunspot.month\n",
      "arima model 4 7 sunspot.year\n",
      "\n"
     ]
    }
   ],
   "source": [
    "modelSpace = {\n",
    "    'arima': {'ar':[2,3,4], 'ma':[4,5,6,7]},\n",
    "#     'arima': {'ar':[2,], 'ma':[4,5]},\n",
    "#     'dar':{'ar':[2,3,4]},\n",
    "#     'garch':{'p':[1,2],'q':[1,2]}\n",
    "}\n",
    "\n",
    "trainedModels = {}\n",
    "\n",
    "perf_fold1 = pd.DataFrame(columns=['fold','timeSeriesName', 'model', 'params', 'rmse'])\n",
    "perf_fold2 = perf_fold1.copy()\n",
    "\n",
    "print('loading train data ...')\n",
    "print('exploring model space on train data (2-Fold CV) ...')\n",
    "\n",
    "for fold, test_split in enumerate([0.1, 0.25]):\n",
    "    print('fold:',fold)\n",
    "    train_validdation_split = get_train_validation_split(test_split)\n",
    "    \n",
    "    for modelName, paramsDict in modelSpace.items():\n",
    "        # get the cartesian product of model parameters, e.g. [{'ar': 2, 'ma': 2}, {'ar': 2, 'ma': 4}, {'ar': 4, 'ma': 2}, {'ar': 4, 'ma': 4}]\n",
    "        paramCartesian = list((dict(zip(paramsDict, x)) for x in itertools.product(*paramsDict.values())))\n",
    "        for paramCombo in paramCartesian: # e.g. {'ar': 2, 'ma': 2}\n",
    "            for (tsName, tsFile) in zip(d3m.train_data['timeSeriesName'], \n",
    "                                d3m.train_data['timeSeriesDataFile']):\n",
    "                TD = pd.DataFrame(train_validdation_split[(tsName, 'train')][tsName])\n",
    "                VD = pd.DataFrame(train_validdation_split[(tsName, 'validation')][tsName])\n",
    "                h = len(VD)\n",
    "                model = None\n",
    "                if modelName == 'arima':\n",
    "                    ar = paramCombo['ar']\n",
    "                    ma = paramCombo['ma']\n",
    "                    model = pf.ARIMA(data=TD, ar=ar, ma=ma, integ=0, target=tsName, family=pf.Normal())\n",
    "                    print('arima model %s %s %s'%(ar, ma, tsName),)\n",
    "                    model.fit(\"MLE\")\n",
    "                    trainedModels[(tsName, 'arima', ar, ma)] = model\n",
    "                elif modelName == 'dar':\n",
    "                    ar = paramCombo['ar']\n",
    "                    model = pf.DAR(data=TD, ar=ar, integ=0, target=tsName)\n",
    "                    model.fit(\"MLE\")\n",
    "                    trainedModels[(tsName, 'dar', ar)] = model\n",
    "                elif modelName == 'garch':\n",
    "                    p = paramCombo['p']\n",
    "                    q = paramCombo['q']\n",
    "                    model = pf.SEGARCHM(p=p, q=q, data=TD, target=tsName)\n",
    "                    model.fit()\n",
    "                    trainedModels[(tsName, 'garch', p, q)] = model\n",
    "\n",
    "                # evaluate the trained model on validation data\n",
    "                if model != None:\n",
    "                    try:\n",
    "                        predict = model.predict(h=h)\n",
    "                        rmse = sqrt(mean_squared_error(predict, VD))\n",
    "                        if fold == 1:\n",
    "                            perf_fold1.loc[len(perf_fold1)]=[fold, tsName, modelName, paramCombo, rmse]\n",
    "                        else:\n",
    "                            perf_fold2.loc[len(perf_fold2)]=[fold, tsName, modelName, paramCombo, rmse]\n",
    "                    except:\n",
    "                        pass\n",
    "print('')"
   ]
  },
  {
   "cell_type": "code",
   "execution_count": 10,
   "metadata": {},
   "outputs": [],
   "source": [
    "perf = perf_fold1.copy()\n",
    "perf['rmse'] = (perf_fold1['rmse']+perf_fold2['rmse'])/2\n",
    "# perf"
   ]
  },
  {
   "cell_type": "markdown",
   "metadata": {},
   "source": [
    "### Select the best models for each timeseries"
   ]
  },
  {
   "cell_type": "code",
   "execution_count": 11,
   "metadata": {},
   "outputs": [
    {
     "name": "stdout",
     "output_type": "stream",
     "text": [
      "selecting best model for baseline ...\n"
     ]
    }
   ],
   "source": [
    "print('selecting best model for baseline ...')"
   ]
  },
  {
   "cell_type": "code",
   "execution_count": 12,
   "metadata": {},
   "outputs": [
    {
     "name": "stdout",
     "output_type": "stream",
     "text": [
      "baseline model for sunspot.month\n",
      "model                  arima\n",
      "params    {'ar': 3, 'ma': 4}\n",
      "rmse                  58.753\n",
      "Name: 8, dtype: object\n",
      "baseline model for sunspot.year\n",
      "model                  arima\n",
      "params    {'ar': 4, 'ma': 7}\n",
      "rmse                 53.5929\n",
      "Name: 23, dtype: object\n"
     ]
    }
   ],
   "source": [
    "best_models = {}\n",
    "\n",
    "for tsName in d3m.train_data['timeSeriesName']:\n",
    "    model = (perf[perf['timeSeriesName']==tsName].sort_values('rmse').iloc[0][['model', 'params','rmse']])\n",
    "    best_models[tsName] = model\n",
    "    print('baseline model for %s'%tsName)\n",
    "    print(model)\n",
    "    \n",
    "train_performance = OrderedDict([\n",
    "    ('train', OrderedDict([\n",
    "        ('split', OrderedDict([\n",
    "                ('type', ['train_test_split','train_test_split']),\n",
    "                ('n_splits', [1, 1]),\n",
    "                ('test_size', [0.1, 0.25]),\n",
    "                ('shuffle', [False, False])])\n",
    "        ),\n",
    "        ('score', OrderedDict([\n",
    "                ('metric', 'rootMeanSquaredError'),\n",
    "                ('value', [list(best_models.values())[0].rmse,list(best_models.values())[1].rmse]\n",
    "                )])\n",
    "        )\n",
    "    ]))\n",
    "])\n",
    "# print(json.dumps(train_performance, indent=2))"
   ]
  },
  {
   "cell_type": "markdown",
   "metadata": {},
   "source": [
    "## Submit predictions on testData"
   ]
  },
  {
   "cell_type": "code",
   "execution_count": 13,
   "metadata": {},
   "outputs": [
    {
     "name": "stdout",
     "output_type": "stream",
     "text": [
      "loading test data ...\n"
     ]
    }
   ],
   "source": [
    "print('loading test data ...')\n",
    "try:\n",
    "    testData = pd.concat([d3m.test_data, d3m.test_targets], axis=1)\n",
    "except:\n",
    "    print('Looks like this is a redacted dataset. testData is unavailable. Cannot complete this step ...')\n",
    "    \n",
    "# print(testData.shape)"
   ]
  },
  {
   "cell_type": "code",
   "execution_count": 14,
   "metadata": {},
   "outputs": [
    {
     "name": "stdout",
     "output_type": "stream",
     "text": [
      "making predictions ...\n"
     ]
    }
   ],
   "source": [
    "print('making predictions ...')"
   ]
  },
  {
   "cell_type": "code",
   "execution_count": 15,
   "metadata": {
    "collapsed": true
   },
   "outputs": [],
   "source": [
    "# per series:\n",
    "# 1. select the best model for that series\n",
    "# 2. make predictions on that series portion of the testData\n",
    "y_predict_perSeries = []\n",
    "\n",
    "for tsName in testData['timeSeriesName'].unique():\n",
    "    X_TD = testData[testData['timeSeriesName']==tsName]\n",
    "    y_TD = pd.DataFrame(X_TD.pop('value'))\n",
    "#     print(X_TD.tail())\n",
    "#     print(y_TD.tail())\n",
    "    \n",
    "    h = len(y_TD)\n",
    "    best_model = None\n",
    "    \n",
    "    # retrieve the best model for the timeSeries\n",
    "    best_model_specs = best_models[tsName]\n",
    "    best_model_type = best_model_specs.model\n",
    "    if best_model_type == 'arima':\n",
    "        best_model = trainedModels[(tsName, 'arima', ar, ma)]\n",
    "    elif best_model_type == 'dar':\n",
    "        pass\n",
    "    elif best_model_type == 'garch':\n",
    "        pass\n",
    "    assert best_model != None\n",
    "    \n",
    "    y_P = best_model.predict(h=h)\n",
    "    y_P.index = y_TD.index\n",
    "    y_P.columns=['value']\n",
    "#     print(y_P.tail())\n",
    "    y_predict_perSeries.append(y_P)"
   ]
  },
  {
   "cell_type": "code",
   "execution_count": 16,
   "metadata": {},
   "outputs": [
    {
     "name": "stdout",
     "output_type": "stream",
     "text": [
      "saving predictions in testTargets.csv ...\n"
     ]
    }
   ],
   "source": [
    "print('saving predictions in testTargets.csv ...')"
   ]
  },
  {
   "cell_type": "code",
   "execution_count": 17,
   "metadata": {
    "collapsed": true
   },
   "outputs": [],
   "source": [
    "# combine the y's per series to get the overall y\n",
    "y = pd.concat(y_predict_perSeries, axis=0)\n",
    "# print(y.head())\n",
    "# print(y.tail())\n",
    "# save the y\n",
    "y.to_csv('testTargets.csv')"
   ]
  },
  {
   "cell_type": "markdown",
   "metadata": {},
   "source": [
    "## Compute performance on test data"
   ]
  },
  {
   "cell_type": "code",
   "execution_count": 18,
   "metadata": {},
   "outputs": [
    {
     "name": "stdout",
     "output_type": "stream",
     "text": [
      "computing performance on testData (assuming the testTargets is available) ...\n"
     ]
    }
   ],
   "source": [
    "print('computing performance on testData (assuming the testTargets is available) ...')"
   ]
  },
  {
   "cell_type": "code",
   "execution_count": 19,
   "metadata": {
    "collapsed": true
   },
   "outputs": [],
   "source": [
    "test_performance = OrderedDict()"
   ]
  },
  {
   "cell_type": "code",
   "execution_count": 20,
   "metadata": {},
   "outputs": [
    {
     "name": "stdout",
     "output_type": "stream",
     "text": [
      "performance on test data (rmse): 47.84572074018467\n",
      "saving the performance score ...\n"
     ]
    }
   ],
   "source": [
    "y_truth = d3m.test_targets\n",
    "y_predicted = y\n",
    "rmse = sqrt(mean_squared_error(y_truth, y_predicted))\n",
    "print('performance on test data (rmse):',rmse)\n",
    "print('saving the performance score ...')\n",
    "test_performance = OrderedDict([\n",
    "    ('test', OrderedDict([\n",
    "        ('score', OrderedDict([\n",
    "                ('metric', 'rootMeanSquaredError'),\n",
    "                ('value', rmse)])\n",
    "        )\n",
    "    ]))\n",
    "])"
   ]
  },
  {
   "cell_type": "code",
   "execution_count": 21,
   "metadata": {},
   "outputs": [
    {
     "name": "stdout",
     "output_type": "stream",
     "text": [
      "{\n",
      "  \"train\": {\n",
      "    \"split\": {\n",
      "      \"type\": [\n",
      "        \"train_test_split\",\n",
      "        \"train_test_split\"\n",
      "      ],\n",
      "      \"n_splits\": [\n",
      "        1,\n",
      "        1\n",
      "      ],\n",
      "      \"test_size\": [\n",
      "        0.1,\n",
      "        0.25\n",
      "      ],\n",
      "      \"shuffle\": [\n",
      "        false,\n",
      "        false\n",
      "      ]\n",
      "    },\n",
      "    \"score\": {\n",
      "      \"metric\": \"rootMeanSquaredError\",\n",
      "      \"value\": [\n",
      "        58.75301338127112,\n",
      "        53.59288874532788\n",
      "      ]\n",
      "    }\n",
      "  },\n",
      "  \"test\": {\n",
      "    \"score\": {\n",
      "      \"metric\": \"rootMeanSquaredError\",\n",
      "      \"value\": 47.84572074018467\n",
      "    }\n",
      "  }\n",
      "}\n"
     ]
    }
   ],
   "source": [
    "overall_performance = OrderedDict()\n",
    "overall_performance.update(train_performance)\n",
    "overall_performance.update(test_performance)\n",
    "\n",
    "with open('performance.json', 'w', encoding='utf-8') as f:\n",
    "    json.dump(overall_performance, f, indent=2)\n",
    "print(json.dumps(overall_performance, indent=2))"
   ]
  },
  {
   "cell_type": "code",
   "execution_count": null,
   "metadata": {
    "collapsed": true
   },
   "outputs": [],
   "source": []
  }
 ],
 "metadata": {
  "kernelspec": {
   "display_name": "Python [conda env:jupyter]",
   "language": "python",
   "name": "conda-env-jupyter-py"
  },
  "language_info": {
   "codemirror_mode": {
    "name": "ipython",
    "version": 3
   },
   "file_extension": ".py",
   "mimetype": "text/x-python",
   "name": "python",
   "nbconvert_exporter": "python",
   "pygments_lexer": "ipython3",
   "version": "3.6.2"
  }
 },
 "nbformat": 4,
 "nbformat_minor": 1
}
